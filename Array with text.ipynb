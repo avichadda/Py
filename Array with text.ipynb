{
 "cells": [
  {
   "cell_type": "code",
   "execution_count": 30,
   "metadata": {},
   "outputs": [],
   "source": [
    "family=[\"SandeepChadda\",\"AviChadda\",\"KirtiChadda\",\"UmaChadda\",\"IvaanChadda\",\"Avi\",\"Uma\",\"Sandeep\",\"Kirti\",\"Ivaan\"]"
   ]
  },
  {
   "cell_type": "code",
   "execution_count": 15,
   "metadata": {
    "scrolled": true
   },
   "outputs": [
    {
     "name": "stdout",
     "output_type": "stream",
     "text": [
      "Avi\n"
     ]
    }
   ],
   "source": [
    "print(family[5])"
   ]
  },
  {
   "cell_type": "code",
   "execution_count": 2,
   "metadata": {},
   "outputs": [
    {
     "name": "stdout",
     "output_type": "stream",
     "text": [
      "enter a number123456\n",
      "N.O.W\n",
      "enter your number12346\n",
      "not  12345\n"
     ]
    }
   ],
   "source": [
    "y=input(\"enter a number\")\n",
    "\n",
    "y=int(y)\n",
    "\n",
    "if y < 100:\n",
    "    print(\"W.O.W\")\n",
    "else:\n",
    "    print(\"N.O.W\")\n",
    "\n",
    "x = input(\"enter your number\")\n",
    "\n",
    "x=int(x)\n",
    "\n",
    "if x < 100:\n",
    "    print(im)\n",
    "else:\n",
    "    print(\"not \",im)"
   ]
  },
  {
   "cell_type": "code",
   "execution_count": 1,
   "metadata": {},
   "outputs": [
    {
     "name": "stdout",
     "output_type": "stream",
     "text": [
      "f12345\n"
     ]
    }
   ],
   "source": [
    "im=input(\"f\")"
   ]
  },
  {
   "cell_type": "code",
   "execution_count": null,
   "metadata": {},
   "outputs": [],
   "source": []
  },
  {
   "cell_type": "code",
   "execution_count": null,
   "metadata": {},
   "outputs": [],
   "source": []
  }
 ],
 "metadata": {
  "kernelspec": {
   "display_name": "Python 3",
   "language": "python",
   "name": "python3"
  },
  "language_info": {
   "codemirror_mode": {
    "name": "ipython",
    "version": 3
   },
   "file_extension": ".py",
   "mimetype": "text/x-python",
   "name": "python",
   "nbconvert_exporter": "python",
   "pygments_lexer": "ipython3",
   "version": "3.7.4"
  }
 },
 "nbformat": 4,
 "nbformat_minor": 4
}
