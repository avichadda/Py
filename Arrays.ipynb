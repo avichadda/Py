{
 "cells": [
  {
   "cell_type": "code",
   "execution_count": 8,
   "metadata": {},
   "outputs": [
    {
     "name": "stdout",
     "output_type": "stream",
     "text": [
      "avi\n",
      "ivaan\n",
      "kirti\n",
      "sandeep\n",
      "uma\n"
     ]
    }
   ],
   "source": [
    "# Write A Program that defines an array called brothers\n",
    "# The value of the array will be \"Avi\" and \"Ivaan\"\n",
    "# Print the value of array \n",
    "\n",
    "\n",
    "family=[\"avi\",\"ivaan\", \"kirti\", \"sandeep\", \"uma\"]\n",
    "#print(family)\n",
    "\n",
    "\n",
    "\n",
    "# Print only Avi\n",
    "#print(family[0])\n",
    "\n",
    "\n",
    "# Print all members of the family one after the other using for loop\n",
    "for x in family:\n",
    "    print(x)\n",
    "\n",
    "\n"
   ]
  },
  {
   "cell_type": "code",
   "execution_count": null,
   "metadata": {},
   "outputs": [],
   "source": []
  }
 ],
 "metadata": {
  "kernelspec": {
   "display_name": "Python 3",
   "language": "python",
   "name": "python3"
  },
  "language_info": {
   "codemirror_mode": {
    "name": "ipython",
    "version": 3
   },
   "file_extension": ".py",
   "mimetype": "text/x-python",
   "name": "python",
   "nbconvert_exporter": "python",
   "pygments_lexer": "ipython3",
   "version": "3.7.4"
  }
 },
 "nbformat": 4,
 "nbformat_minor": 4
}
