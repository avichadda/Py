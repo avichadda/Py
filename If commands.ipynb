{
 "cells": [
  {
   "cell_type": "code",
   "execution_count": null,
   "metadata": {},
   "outputs": [],
   "source": [
    "xpro=input(\"Enter a number\")\n",
    "\n",
    "xpro=int(xpro)\n",
    "\n",
    "x=xpro*5\n",
    "if xpro > 100:\n",
    "    print(\"too big\")\n",
    "else:\n",
    "    print(\"too small\")"
   ]
  },
  {
   "cell_type": "code",
   "execution_count": null,
   "metadata": {},
   "outputs": [],
   "source": [
    "# Defining the function\n",
    "\n",
    "def sanvi():\n",
    "    # Taking input from the user in the method\n",
    "    xpro=input(\"Enter a number\") # Create a variable called xpro. xpro = 8 is the # entered by the user.\n",
    "\n",
    "    xpro=int(xpro) # convert the number stored in xpro into integer\n",
    "    \n",
    "    x=xpro*5 # Multiply xpro with 5 & save it in the variable x. 40 is stored in x\n",
    "    print(x)\n",
    "    \n",
    "    if x > 100: # Check if the value stored in xpro is greater than 100.  \n",
    "        print(\"too big\")\n",
    "    else:\n",
    "        print(\"too small\")"
   ]
  },
  {
   "cell_type": "code",
   "execution_count": null,
   "metadata": {},
   "outputs": [],
   "source": [
    "# Give input to the method when the user calls the function, instead of when the user defines the function\n",
    "# calling the function/ method\n",
    "sanvi()"
   ]
  },
  {
   "cell_type": "code",
   "execution_count": null,
   "metadata": {},
   "outputs": [],
   "source": []
  }
 ],
 "metadata": {
  "kernelspec": {
   "display_name": "Python 3",
   "language": "python",
   "name": "python3"
  },
  "language_info": {
   "codemirror_mode": {
    "name": "ipython",
    "version": 3
   },
   "file_extension": ".py",
   "mimetype": "text/x-python",
   "name": "python",
   "nbconvert_exporter": "python",
   "pygments_lexer": "ipython3",
   "version": "3.7.4"
  }
 },
 "nbformat": 4,
 "nbformat_minor": 4
}
