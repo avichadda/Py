{
 "cells": [
  {
   "cell_type": "code",
   "execution_count": 8,
   "metadata": {
    "scrolled": true
   },
   "outputs": [],
   "source": [
    "# WAP to define a method called family that prints Avi and Ivaan everytime you call the method\n",
    "\n",
    "\n",
    "def family():\n",
    "    print(\"Avi\")\n",
    "    print(\"Ivaan\")\n",
    "    print(\"Sandeep\")\n",
    "    print(\"Kirti\")\n",
    "    print(\"Uma\")\n",
    "print (\"Aashima\")"
   ]
  },
  {
   "cell_type": "code",
   "execution_count": 9,
   "metadata": {
    "scrolled": true
   },
   "outputs": [
    {
     "name": "stdout",
     "output_type": "stream",
     "text": [
      "Avi\n",
      "Ivaan\n",
      "Sandeep\n",
      "Kirti\n",
      "Uma\n",
      "Aashima\n"
     ]
    }
   ],
   "source": [
    "family()"
   ]
  },
  {
   "cell_type": "code",
   "execution_count": 18,
   "metadata": {},
   "outputs": [],
   "source": [
    "# WAP that defines a method called giggle that shows that we need to enter a number\n",
    "\n",
    "def doublefun():\n",
    "    x=input(\"Enter a number\")\n",
    "    x=int(x)\n",
    "    y=x+x\n",
    "    return y"
   ]
  },
  {
   "cell_type": "code",
   "execution_count": 20,
   "metadata": {},
   "outputs": [
    {
     "name": "stdout",
     "output_type": "stream",
     "text": [
      "Enter a number1000\n",
      "2000\n"
     ]
    }
   ],
   "source": [
    "y=doublefun()\n",
    "print(y)"
   ]
  },
  {
   "cell_type": "code",
   "execution_count": 29,
   "metadata": {},
   "outputs": [],
   "source": [
    "def fun():\n",
    "    x=input(\"enter your number\")\n",
    "    x=int(x)\n",
    "    if x > 1000:\n",
    "        print(\"it is greater than 1000\")\n",
    "    else:\n",
    "        print(\"it is not greater than 1000\")\n",
    "        "
   ]
  },
  {
   "cell_type": "code",
   "execution_count": 30,
   "metadata": {},
   "outputs": [
    {
     "name": "stdout",
     "output_type": "stream",
     "text": [
      "enter your number50000010002234\n",
      "it is greater than 1000\n"
     ]
    }
   ],
   "source": [
    "fun()"
   ]
  },
  {
   "cell_type": "code",
   "execution_count": null,
   "metadata": {},
   "outputs": [],
   "source": []
  },
  {
   "cell_type": "code",
   "execution_count": null,
   "metadata": {},
   "outputs": [],
   "source": []
  }
 ],
 "metadata": {
  "kernelspec": {
   "display_name": "Python 3",
   "language": "python",
   "name": "python3"
  },
  "language_info": {
   "codemirror_mode": {
    "name": "ipython",
    "version": 3
   },
   "file_extension": ".py",
   "mimetype": "text/x-python",
   "name": "python",
   "nbconvert_exporter": "python",
   "pygments_lexer": "ipython3",
   "version": "3.7.4"
  }
 },
 "nbformat": 4,
 "nbformat_minor": 4
}
