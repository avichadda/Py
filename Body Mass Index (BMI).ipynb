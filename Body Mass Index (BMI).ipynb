{
 "cells": [
  {
   "cell_type": "code",
   "execution_count": 12,
   "metadata": {},
   "outputs": [],
   "source": [
    "#Body Mass Index (BMI)167 cm"
   ]
  },
  {
   "cell_type": "code",
   "execution_count": 18,
   "metadata": {},
   "outputs": [
    {
     "name": "stdout",
     "output_type": "stream",
     "text": [
      "enter weight in kg:28.8\n",
      "enter height in meters:1.22\n",
      "hurray! you are very fit. your BMI is\n",
      "19.34963719430261\n"
     ]
    }
   ],
   "source": [
    "# Ask the user to enter his or her weight and height\n",
    "\n",
    "wt = input (\"enter weight in kg:\")\n",
    "ht = input (\"enter height in meters:\")\n",
    "\n",
    "# Convert the weight and height into float so that you can do maths on those numbers\n",
    "ht= float (ht)\n",
    "wt= float (wt)\n",
    "\n",
    "# Find the BMI value using the formula that BMI = weight divided by (height x height)\n",
    "BMI = wt/(ht*ht)\n",
    "\n",
    "# Tell the user whether he  or she is fit or not using the above BMI formula\n",
    "if BMI > 25:\n",
    "    print (\"sorry you are not fit. your BMI is\")\n",
    "    print (BMI)\n",
    "elif BMI == 25 :\n",
    "    print(\"you are just fit. your BMI is:\")\n",
    "    print (BMI)\n",
    "else:\n",
    "    print (\"hurray! you are very fit. your BMI is\")\n",
    "    print (BMI)"
   ]
  }
 ],
 "metadata": {
  "kernelspec": {
   "display_name": "Python 3",
   "language": "python",
   "name": "python3"
  },
  "language_info": {
   "codemirror_mode": {
    "name": "ipython",
    "version": 3
   },
   "file_extension": ".py",
   "mimetype": "text/x-python",
   "name": "python",
   "nbconvert_exporter": "python",
   "pygments_lexer": "ipython3",
   "version": "3.7.4"
  }
 },
 "nbformat": 4,
 "nbformat_minor": 4
}
